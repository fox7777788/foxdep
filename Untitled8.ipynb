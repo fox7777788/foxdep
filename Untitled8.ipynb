{
 "cells": [
  {
   "cell_type": "code",
   "execution_count": 1,
   "id": "347ffe22",
   "metadata": {},
   "outputs": [],
   "source": [
    "import cv2\n",
    "import pytesseract\n",
    "import numpy as np\n",
    "import pandas as pd\n",
    "import os\n"
   ]
  },
  {
   "cell_type": "code",
   "execution_count": 2,
   "id": "f0a7f5ef",
   "metadata": {},
   "outputs": [],
   "source": [
    "#pytesseract.pytesseract.tesseract_cmd = r'C:\\Users\\Magic\\Downloads'"
   ]
  },
  {
   "cell_type": "code",
   "execution_count": 3,
   "id": "a4ce0002",
   "metadata": {},
   "outputs": [],
   "source": [
    "img = cv2.imread(r'C:\\Users\\Magic\\ocr1\\ocr\\FFFFF.jpg')\n",
    "gray = cv2.cvtColor(img, cv2.COLOR_RGB2GRAY)\n",
    "gray, img_bin = cv2.threshold(gray,128,255,cv2.THRESH_BINARY | cv2.THRESH_OTSU)\n",
    "gray = cv2.bitwise_not(img_bin)"
   ]
  },
  {
   "cell_type": "code",
   "execution_count": 4,
   "id": "c3fd67cb",
   "metadata": {},
   "outputs": [
    {
     "name": "stdout",
     "output_type": "stream",
     "text": [
      "OUTPUT: Test Result Units Range(min) Range (max)\n",
      "\n",
      "ACE 35 nmol/ml 39 40\n",
      "MRI Piolo) MHZ 1 Kiere]\n",
      "CA 7 mg/dl 8 10\n",
      "WBC 3 L 4 7\n",
      "TB vie) U/ML 20 sere)\n",
      "RBC 4 Million Red 4 E}\n",
      "GFR Kolo) mL/min isto) 120\n",
      "Fu 550 L 500 (Tere)\n",
      "Na 140 L 135 145\n",
      "ALT 22 U/L 4 Kis)\n",
      "CMV 600 mg/dl 620 a Tore)\n",
      "Hb 13 L 14 A)\n",
      "ADR 5 rel 4 36\n",
      "\n",
      "NM 4 mm 4 6\n",
      "\n"
     ]
    }
   ],
   "source": [
    "kernel = np.ones((2, 1), np.uint8)\n",
    "img = cv2.erode(gray, kernel, iterations=1)\n",
    "img = cv2.dilate(img, kernel, iterations=1)\n",
    "out_below = pytesseract.image_to_string(img)\n",
    "print(\"OUTPUT:\", out_below)\n",
    "\n",
    "\n"
   ]
  },
  {
   "cell_type": "code",
   "execution_count": 5,
   "id": "9e9392ec",
   "metadata": {
    "scrolled": true
   },
   "outputs": [
    {
     "name": "stdout",
     "output_type": "stream",
     "text": [
      "{'name': 'ACE', 'result': '35', 'unit': 'nmol/ml', 'rangeMin': '39', 'rangeMax': '40'}\n"
     ]
    }
   ],
   "source": [
    "from typing import List\n",
    "\n",
    "\n",
    "class Test:\n",
    "    name: str\n",
    "    result: str\n",
    "    unit: str\n",
    "    rangeMin: str\n",
    "    rangeMax: str\n",
    "\n",
    "    def __init__(self, name, result, unit, rangeMin, rangeMax):\n",
    "        self.name = name\n",
    "        self.result = result\n",
    "        self.unit = unit\n",
    "        self.rangeMin = rangeMin\n",
    "        self.rangeMax = rangeMax\n",
    "\n",
    "\n",
    "def getTests(inputString) -> List[Test]:\n",
    "    testsList = []\n",
    "    for line in inputString.split(\"\\n\"):\n",
    "        if line.split(\" \").__len__() > 4:\n",
    "            obj = line.strip().split(\" \")\n",
    "            testsList.append(Test(obj[0], obj[1], obj[2], obj[3], obj[4]))\n",
    "    testsList.__delitem__(0)\n",
    "    return testsList\n",
    "\n",
    "\n",
    "if __name__ == \"__main__\":\n",
    "    input = \"Test Result Units Range(min) Range(max)\\n\\nACE 35 nmol/ml 39 40\\nMRI Piolo) MHZ 1 Kiere]\\nCA 7 mg/dl 8 10\\nWBC 3 L 4 7\\nTB vie) U/ML 20 sere)\\nRBC 4 Million Red 4 E}\\nGFR Kolo) mL/min isto) 120\\nFu 550 L 500 (Tere)\\nNa 140 L 135 145\\nALT 22 U/L 4 Kis)\\nCMV 600 mg/dl 620 a Tore)\\nHb 13 L 14 A)\\nADR 5 rel 4 36\\n\\nNM 4 mm 4 6\\n'\"\n",
    "    output = getTests(input)\n",
    "    # getTests() returns list of test object\n",
    "    print(output[0].__dict__)\n",
    "\n",
    "data = pd.read_csv(r'C:\\Users\\Magic\\movies_metadata.csv',encoding='windows-1252')\n",
    "#blogdata = pd.read_csv('c:/Users/hyoungm?Downloads/blogdata.csv', encoding = 'utf-16'\n",
    "\n",
    "\n"
   ]
  },
  {
   "cell_type": "code",
   "execution_count": null,
   "id": "ddad5eb0",
   "metadata": {},
   "outputs": [],
   "source": []
  },
  {
   "cell_type": "code",
   "execution_count": null,
   "id": "cc5ba5f2",
   "metadata": {},
   "outputs": [],
   "source": []
  },
  {
   "cell_type": "code",
   "execution_count": 6,
   "id": "13441e1b",
   "metadata": {
    "scrolled": true
   },
   "outputs": [
    {
     "data": {
      "text/html": [
       "<div>\n",
       "<style scoped>\n",
       "    .dataframe tbody tr th:only-of-type {\n",
       "        vertical-align: middle;\n",
       "    }\n",
       "\n",
       "    .dataframe tbody tr th {\n",
       "        vertical-align: top;\n",
       "    }\n",
       "\n",
       "    .dataframe thead th {\n",
       "        text-align: right;\n",
       "    }\n",
       "</style>\n",
       "<table border=\"1\" class=\"dataframe\">\n",
       "  <thead>\n",
       "    <tr style=\"text-align: right;\">\n",
       "      <th></th>\n",
       "      <th>Unnamed: 0</th>\n",
       "      <th>Abbreviation</th>\n",
       "      <th>Unnamed: 2</th>\n",
       "      <th>Unnamed: 3</th>\n",
       "      <th>Unnamed: 4</th>\n",
       "      <th>Stands for</th>\n",
       "      <th>Unnamed: 6</th>\n",
       "      <th>Unnamed: 7</th>\n",
       "      <th>Unnamed: 8</th>\n",
       "      <th>low or high</th>\n",
       "      <th>Unnamed: 10</th>\n",
       "      <th>Range</th>\n",
       "    </tr>\n",
       "  </thead>\n",
       "  <tbody>\n",
       "    <tr>\n",
       "      <th>0</th>\n",
       "      <td>NaN</td>\n",
       "      <td>ACE</td>\n",
       "      <td>NaN</td>\n",
       "      <td>NaN</td>\n",
       "      <td>NaN</td>\n",
       "      <td>Angiotensin converting enzyme</td>\n",
       "      <td>NaN</td>\n",
       "      <td>NaN</td>\n",
       "      <td>NaN</td>\n",
       "      <td>normal</td>\n",
       "      <td>NaN</td>\n",
       "      <td>35 to40 nmol/mL/min.</td>\n",
       "    </tr>\n",
       "    <tr>\n",
       "      <th>1</th>\n",
       "      <td>NaN</td>\n",
       "      <td>AMI</td>\n",
       "      <td>NaN</td>\n",
       "      <td>NaN</td>\n",
       "      <td>NaN</td>\n",
       "      <td>Acute myocardial infarction</td>\n",
       "      <td>NaN</td>\n",
       "      <td>NaN</td>\n",
       "      <td>NaN</td>\n",
       "      <td>high</td>\n",
       "      <td>NaN</td>\n",
       "      <td>3 ng/L to 5 ng/L</td>\n",
       "    </tr>\n",
       "    <tr>\n",
       "      <th>2</th>\n",
       "      <td>NaN</td>\n",
       "      <td>bid</td>\n",
       "      <td>NaN</td>\n",
       "      <td>NaN</td>\n",
       "      <td>NaN</td>\n",
       "      <td>Twice a day</td>\n",
       "      <td>NaN</td>\n",
       "      <td>NaN</td>\n",
       "      <td>NaN</td>\n",
       "      <td>high</td>\n",
       "      <td>NaN</td>\n",
       "      <td>10 to 20 micrograms</td>\n",
       "    </tr>\n",
       "    <tr>\n",
       "      <th>3</th>\n",
       "      <td>NaN</td>\n",
       "      <td>CA</td>\n",
       "      <td>NaN</td>\n",
       "      <td>NaN</td>\n",
       "      <td>NaN</td>\n",
       "      <td>Cancer OR Calcium</td>\n",
       "      <td>NaN</td>\n",
       "      <td>NaN</td>\n",
       "      <td>NaN</td>\n",
       "      <td>normal</td>\n",
       "      <td>NaN</td>\n",
       "      <td>8.6  to 10.3 mg/dL</td>\n",
       "    </tr>\n",
       "    <tr>\n",
       "      <th>4</th>\n",
       "      <td>NaN</td>\n",
       "      <td>WBC</td>\n",
       "      <td>NaN</td>\n",
       "      <td>NaN</td>\n",
       "      <td>NaN</td>\n",
       "      <td>White blood cell</td>\n",
       "      <td>NaN</td>\n",
       "      <td>NaN</td>\n",
       "      <td>NaN</td>\n",
       "      <td>normal</td>\n",
       "      <td>NaN</td>\n",
       "      <td>4.5 to 11.0  L</td>\n",
       "    </tr>\n",
       "    <tr>\n",
       "      <th>5</th>\n",
       "      <td>NaN</td>\n",
       "      <td>TB</td>\n",
       "      <td>NaN</td>\n",
       "      <td>NaN</td>\n",
       "      <td>NaN</td>\n",
       "      <td>Tuberculosis</td>\n",
       "      <td>NaN</td>\n",
       "      <td>NaN</td>\n",
       "      <td>NaN</td>\n",
       "      <td>normal</td>\n",
       "      <td>NaN</td>\n",
       "      <td>0.20 to 0.99 IU/ml</td>\n",
       "    </tr>\n",
       "    <tr>\n",
       "      <th>6</th>\n",
       "      <td>NaN</td>\n",
       "      <td>RBC</td>\n",
       "      <td>NaN</td>\n",
       "      <td>NaN</td>\n",
       "      <td>NaN</td>\n",
       "      <td>Red blood cell</td>\n",
       "      <td>NaN</td>\n",
       "      <td>NaN</td>\n",
       "      <td>NaN</td>\n",
       "      <td>normal</td>\n",
       "      <td>NaN</td>\n",
       "      <td>4.35 to 5.65 million red</td>\n",
       "    </tr>\n",
       "    <tr>\n",
       "      <th>7</th>\n",
       "      <td>NaN</td>\n",
       "      <td>GFR</td>\n",
       "      <td>NaN</td>\n",
       "      <td>NaN</td>\n",
       "      <td>NaN</td>\n",
       "      <td>Glomerular filtration rate</td>\n",
       "      <td>NaN</td>\n",
       "      <td>NaN</td>\n",
       "      <td>NaN</td>\n",
       "      <td>normal</td>\n",
       "      <td>NaN</td>\n",
       "      <td>90 to 120 mL/min</td>\n",
       "    </tr>\n",
       "    <tr>\n",
       "      <th>8</th>\n",
       "      <td>NaN</td>\n",
       "      <td>fu</td>\n",
       "      <td>NaN</td>\n",
       "      <td>NaN</td>\n",
       "      <td>NaN</td>\n",
       "      <td>anti cancer drug</td>\n",
       "      <td>NaN</td>\n",
       "      <td>NaN</td>\n",
       "      <td>NaN</td>\n",
       "      <td>normal</td>\n",
       "      <td>NaN</td>\n",
       "      <td>500 - 600</td>\n",
       "    </tr>\n",
       "    <tr>\n",
       "      <th>9</th>\n",
       "      <td></td>\n",
       "      <td>AA</td>\n",
       "      <td>NaN</td>\n",
       "      <td>NaN</td>\n",
       "      <td>NaN</td>\n",
       "      <td>Anaplastic Anemia</td>\n",
       "      <td>NaN</td>\n",
       "      <td>NaN</td>\n",
       "      <td>NaN</td>\n",
       "      <td>normal</td>\n",
       "      <td>NaN</td>\n",
       "      <td>count &lt; 500 / microl</td>\n",
       "    </tr>\n",
       "    <tr>\n",
       "      <th>10</th>\n",
       "      <td>NaN</td>\n",
       "      <td>ALT</td>\n",
       "      <td>NaN</td>\n",
       "      <td>NaN</td>\n",
       "      <td>NaN</td>\n",
       "      <td>Alanine Amino transferase</td>\n",
       "      <td>NaN</td>\n",
       "      <td>NaN</td>\n",
       "      <td>NaN</td>\n",
       "      <td>normal</td>\n",
       "      <td>NaN</td>\n",
       "      <td>4 to 36 U/L</td>\n",
       "    </tr>\n",
       "    <tr>\n",
       "      <th>11</th>\n",
       "      <td>NaN</td>\n",
       "      <td>CMV</td>\n",
       "      <td>NaN</td>\n",
       "      <td>NaN</td>\n",
       "      <td>NaN</td>\n",
       "      <td>Cytomegalo virus</td>\n",
       "      <td>NaN</td>\n",
       "      <td>NaN</td>\n",
       "      <td>NaN</td>\n",
       "      <td>normal</td>\n",
       "      <td>NaN</td>\n",
       "      <td>620 to 1400 mg/dl</td>\n",
       "    </tr>\n",
       "    <tr>\n",
       "      <th>12</th>\n",
       "      <td>NaN</td>\n",
       "      <td>Hb</td>\n",
       "      <td>NaN</td>\n",
       "      <td>NaN</td>\n",
       "      <td>NaN</td>\n",
       "      <td>Haemoglobin</td>\n",
       "      <td>NaN</td>\n",
       "      <td>NaN</td>\n",
       "      <td>NaN</td>\n",
       "      <td>normal</td>\n",
       "      <td>NaN</td>\n",
       "      <td>13.2 to 16.6</td>\n",
       "    </tr>\n",
       "    <tr>\n",
       "      <th>13</th>\n",
       "      <td>NaN</td>\n",
       "      <td>ADR</td>\n",
       "      <td>NaN</td>\n",
       "      <td>NaN</td>\n",
       "      <td>NaN</td>\n",
       "      <td>Adverse Drug Reaction</td>\n",
       "      <td>NaN</td>\n",
       "      <td>NaN</td>\n",
       "      <td>NaN</td>\n",
       "      <td>normal</td>\n",
       "      <td>NaN</td>\n",
       "      <td>-4 to +13</td>\n",
       "    </tr>\n",
       "    <tr>\n",
       "      <th>14</th>\n",
       "      <td>NaN</td>\n",
       "      <td>NM</td>\n",
       "      <td>NaN</td>\n",
       "      <td>NaN</td>\n",
       "      <td>NaN</td>\n",
       "      <td>Nodular Melanoma</td>\n",
       "      <td>NaN</td>\n",
       "      <td>NaN</td>\n",
       "      <td>NaN</td>\n",
       "      <td>normal</td>\n",
       "      <td>NaN</td>\n",
       "      <td>4 to 6 mm</td>\n",
       "    </tr>\n",
       "    <tr>\n",
       "      <th>15</th>\n",
       "      <td>NaN</td>\n",
       "      <td>MRI</td>\n",
       "      <td>NaN</td>\n",
       "      <td>NaN</td>\n",
       "      <td>NaN</td>\n",
       "      <td>Magnetic resonance imaging (scan)</td>\n",
       "      <td>NaN</td>\n",
       "      <td>NaN</td>\n",
       "      <td>NaN</td>\n",
       "      <td>normal</td>\n",
       "      <td>NaN</td>\n",
       "      <td>1MHz to 300MHz</td>\n",
       "    </tr>\n",
       "    <tr>\n",
       "      <th>16</th>\n",
       "      <td>NaN</td>\n",
       "      <td>Na</td>\n",
       "      <td>NaN</td>\n",
       "      <td>NaN</td>\n",
       "      <td>NaN</td>\n",
       "      <td>Sodium</td>\n",
       "      <td>NaN</td>\n",
       "      <td>NaN</td>\n",
       "      <td>NaN</td>\n",
       "      <td>normal</td>\n",
       "      <td>NaN</td>\n",
       "      <td>135 to 145 /liter</td>\n",
       "    </tr>\n",
       "    <tr>\n",
       "      <th>17</th>\n",
       "      <td>NaN</td>\n",
       "      <td>NBCCS</td>\n",
       "      <td>NaN</td>\n",
       "      <td>NaN</td>\n",
       "      <td>NaN</td>\n",
       "      <td>Nevoid basal cell carcinoma syndrome</td>\n",
       "      <td>NaN</td>\n",
       "      <td>NaN</td>\n",
       "      <td>NaN</td>\n",
       "      <td>normal</td>\n",
       "      <td>NaN</td>\n",
       "      <td>1 to 10 mm.</td>\n",
       "    </tr>\n",
       "    <tr>\n",
       "      <th>18</th>\n",
       "      <td>NaN</td>\n",
       "      <td>UVR</td>\n",
       "      <td>NaN</td>\n",
       "      <td>NaN</td>\n",
       "      <td>NaN</td>\n",
       "      <td>Ultra Violet Radiation</td>\n",
       "      <td>NaN</td>\n",
       "      <td>NaN</td>\n",
       "      <td>NaN</td>\n",
       "      <td>normal</td>\n",
       "      <td>NaN</td>\n",
       "      <td>100 to 400 nm</td>\n",
       "    </tr>\n",
       "    <tr>\n",
       "      <th>19</th>\n",
       "      <td>NaN</td>\n",
       "      <td>DI</td>\n",
       "      <td>NaN</td>\n",
       "      <td>NaN</td>\n",
       "      <td>NaN</td>\n",
       "      <td>Diabetes Incipidus</td>\n",
       "      <td>NaN</td>\n",
       "      <td>NaN</td>\n",
       "      <td>NaN</td>\n",
       "      <td>normal</td>\n",
       "      <td>NaN</td>\n",
       "      <td>&lt; 300 mOsm/kg</td>\n",
       "    </tr>\n",
       "  </tbody>\n",
       "</table>\n",
       "</div>"
      ],
      "text/plain": [
       "   Unnamed: 0 Abbreviation  Unnamed: 2  Unnamed: 3  Unnamed: 4  \\\n",
       "0         NaN          ACE         NaN         NaN         NaN   \n",
       "1         NaN          AMI         NaN         NaN         NaN   \n",
       "2         NaN          bid         NaN         NaN         NaN   \n",
       "3         NaN           CA         NaN         NaN         NaN   \n",
       "4         NaN          WBC         NaN         NaN         NaN   \n",
       "5         NaN           TB         NaN         NaN         NaN   \n",
       "6         NaN          RBC         NaN         NaN         NaN   \n",
       "7         NaN          GFR         NaN         NaN         NaN   \n",
       "8         NaN           fu         NaN         NaN         NaN   \n",
       "9                       AA         NaN         NaN         NaN   \n",
       "10        NaN          ALT         NaN         NaN         NaN   \n",
       "11        NaN          CMV         NaN         NaN         NaN   \n",
       "12        NaN           Hb         NaN         NaN         NaN   \n",
       "13        NaN          ADR         NaN         NaN         NaN   \n",
       "14        NaN           NM         NaN         NaN         NaN   \n",
       "15        NaN          MRI         NaN         NaN         NaN   \n",
       "16        NaN           Na         NaN         NaN         NaN   \n",
       "17        NaN        NBCCS         NaN         NaN         NaN   \n",
       "18        NaN          UVR         NaN         NaN         NaN   \n",
       "19        NaN           DI         NaN         NaN         NaN   \n",
       "\n",
       "                              Stands for  Unnamed: 6  Unnamed: 7  Unnamed: 8  \\\n",
       "0          Angiotensin converting enzyme         NaN         NaN         NaN   \n",
       "1            Acute myocardial infarction         NaN         NaN         NaN   \n",
       "2                            Twice a day         NaN         NaN         NaN   \n",
       "3                      Cancer OR Calcium         NaN         NaN         NaN   \n",
       "4                       White blood cell         NaN         NaN         NaN   \n",
       "5                           Tuberculosis         NaN         NaN         NaN   \n",
       "6                         Red blood cell         NaN         NaN         NaN   \n",
       "7             Glomerular filtration rate         NaN         NaN         NaN   \n",
       "8                       anti cancer drug         NaN         NaN         NaN   \n",
       "9                      Anaplastic Anemia         NaN         NaN         NaN   \n",
       "10             Alanine Amino transferase         NaN         NaN         NaN   \n",
       "11                      Cytomegalo virus         NaN         NaN         NaN   \n",
       "12                           Haemoglobin         NaN         NaN         NaN   \n",
       "13                 Adverse Drug Reaction         NaN         NaN         NaN   \n",
       "14                      Nodular Melanoma         NaN         NaN         NaN   \n",
       "15     Magnetic resonance imaging (scan)         NaN         NaN         NaN   \n",
       "16                                Sodium         NaN         NaN         NaN   \n",
       "17  Nevoid basal cell carcinoma syndrome         NaN         NaN         NaN   \n",
       "18                Ultra Violet Radiation         NaN         NaN         NaN   \n",
       "19                    Diabetes Incipidus         NaN         NaN         NaN   \n",
       "\n",
       "   low or high  Unnamed: 10                      Range  \n",
       "0       normal          NaN       35 to40 nmol/mL/min.  \n",
       "1         high          NaN           3 ng/L to 5 ng/L  \n",
       "2         high          NaN        10 to 20 micrograms  \n",
       "3       normal          NaN         8.6  to 10.3 mg/dL  \n",
       "4       normal          NaN             4.5 to 11.0  L  \n",
       "5       normal          NaN         0.20 to 0.99 IU/ml  \n",
       "6       normal          NaN  4.35 to 5.65 million red   \n",
       "7       normal          NaN           90 to 120 mL/min  \n",
       "8       normal          NaN                  500 - 600  \n",
       "9       normal          NaN       count < 500 / microl  \n",
       "10      normal          NaN                4 to 36 U/L  \n",
       "11      normal          NaN          620 to 1400 mg/dl  \n",
       "12      normal          NaN               13.2 to 16.6  \n",
       "13      normal          NaN                  -4 to +13  \n",
       "14      normal          NaN                  4 to 6 mm  \n",
       "15      normal          NaN             1MHz to 300MHz  \n",
       "16      normal          NaN          135 to 145 /liter  \n",
       "17      normal          NaN                1 to 10 mm.  \n",
       "18      normal          NaN              100 to 400 nm  \n",
       "19      normal          NaN              < 300 mOsm/kg  "
      ]
     },
     "execution_count": 6,
     "metadata": {},
     "output_type": "execute_result"
    }
   ],
   "source": [
    "data.head(300)\n",
    "#zed=\"Toy Story\"\n",
    "#lenn = len(data)"
   ]
  },
  {
   "cell_type": "code",
   "execution_count": 7,
   "id": "0145de04",
   "metadata": {},
   "outputs": [],
   "source": [
    "#for i in range(lenn):\n",
    " #   if zed == data.original_title[i]:\n",
    " #       print(data.status[i])\n",
    "#    else :\n",
    "#        print (\"no\")\n",
    "        \n",
    "    \n"
   ]
  },
  {
   "cell_type": "code",
   "execution_count": 8,
   "id": "410ce2cc",
   "metadata": {},
   "outputs": [],
   "source": [
    "#data.original_title[0]"
   ]
  },
  {
   "cell_type": "code",
   "execution_count": null,
   "id": "1714d53a",
   "metadata": {},
   "outputs": [],
   "source": []
  },
  {
   "cell_type": "code",
   "execution_count": 9,
   "id": "66d5ef0e",
   "metadata": {},
   "outputs": [
    {
     "data": {
      "text/plain": [
       "'Test Result Units Range(min) Range (max)\\n\\nACE 35 nmol/ml 39 40\\nMRI Piolo) MHZ 1 Kiere]\\nCA 7 mg/dl 8 10\\nWBC 3 L 4 7\\nTB vie) U/ML 20 sere)\\nRBC 4 Million Red 4 E}\\nGFR Kolo) mL/min isto) 120\\nFu 550 L 500 (Tere)\\nNa 140 L 135 145\\nALT 22 U/L 4 Kis)\\nCMV 600 mg/dl 620 a Tore)\\nHb 13 L 14 A)\\nADR 5 rel 4 36\\n\\nNM 4 mm 4 6\\n'"
      ]
     },
     "execution_count": 9,
     "metadata": {},
     "output_type": "execute_result"
    }
   ],
   "source": [
    "out_below"
   ]
  },
  {
   "cell_type": "code",
   "execution_count": 10,
   "id": "54a0286f",
   "metadata": {},
   "outputs": [
    {
     "data": {
      "text/plain": [
       "[<TestsResultExample.Test at 0x1ce83de44c0>,\n",
       " <TestsResultExample.Test at 0x1ce8674f1c0>,\n",
       " <TestsResultExample.Test at 0x1ce8674fb50>,\n",
       " <TestsResultExample.Test at 0x1ce8674f790>,\n",
       " <TestsResultExample.Test at 0x1ce8674f490>,\n",
       " <TestsResultExample.Test at 0x1ce8674f4f0>,\n",
       " <TestsResultExample.Test at 0x1ce8674f670>,\n",
       " <TestsResultExample.Test at 0x1ce8674f1f0>,\n",
       " <TestsResultExample.Test at 0x1ce8674f4c0>,\n",
       " <TestsResultExample.Test at 0x1ce8674f430>,\n",
       " <TestsResultExample.Test at 0x1ce8674f220>,\n",
       " <TestsResultExample.Test at 0x1ce8674f5e0>,\n",
       " <TestsResultExample.Test at 0x1ce8674fbb0>,\n",
       " <TestsResultExample.Test at 0x1ce8674fa30>]"
      ]
     },
     "execution_count": 10,
     "metadata": {},
     "output_type": "execute_result"
    }
   ],
   "source": [
    "from TestsResultExample import *\n",
    " \n",
    "getTests('Test Result Units Range(min) Range (max)\\n\\nACE 35 nmol/ml 39 40\\nMRI Piolo) MHZ 1 Kiere]\\nCA 7 mg/dl 8 10\\nWBC 3 L 4 7\\nTB vie) U/ML 20 sere)\\nRBC 4 Million Red 4 E}\\nGFR Kolo) mL/min isto) 120\\nFu 550 L 500 (Tere)\\nNa 140 L 135 145\\nALT 22 U/L 4 Kis)\\nCMV 600 mg/dl 620 a Tore)\\nHb 13 L 14 A)\\nADR 5 rel 4 36\\n\\nNM 4 mm 4 6\\n')"
   ]
  },
  {
   "cell_type": "code",
   "execution_count": 11,
   "id": "efe3d5af",
   "metadata": {},
   "outputs": [
    {
     "name": "stdout",
     "output_type": "stream",
     "text": [
      "{'name': 'ACE', 'result': '35', 'unit': 'nmol/ml', 'rangeMin': '39', 'rangeMax': '40'}\n"
     ]
    }
   ],
   "source": [
    "if __name__ == \"__main__\":\n",
    "    input = out_below\n",
    "    output = getTests(input)\n",
    "    # getTests() returns list of test object\n",
    "    print(output[0].__dict__)\n"
   ]
  },
  {
   "cell_type": "code",
   "execution_count": 12,
   "id": "467b6ff6",
   "metadata": {},
   "outputs": [
    {
     "name": "stdout",
     "output_type": "stream",
     "text": [
      "{'name': 'ACE', 'result': '35', 'unit': 'nmol/ml', 'rangeMin': '39', 'rangeMax': '40'}\n",
      "{'name': 'MRI', 'result': 'Piolo)', 'unit': 'MHZ', 'rangeMin': '1', 'rangeMax': 'Kiere]'}\n",
      "{'name': 'CA', 'result': '7', 'unit': 'mg/dl', 'rangeMin': '8', 'rangeMax': '10'}\n",
      "{'name': 'WBC', 'result': '3', 'unit': 'L', 'rangeMin': '4', 'rangeMax': '7'}\n",
      "{'name': 'TB', 'result': 'vie)', 'unit': 'U/ML', 'rangeMin': '20', 'rangeMax': 'sere)'}\n",
      "{'name': 'RBC', 'result': '4', 'unit': 'Million', 'rangeMin': 'Red', 'rangeMax': '4'}\n",
      "{'name': 'GFR', 'result': 'Kolo)', 'unit': 'mL/min', 'rangeMin': 'isto)', 'rangeMax': '120'}\n",
      "{'name': 'Fu', 'result': '550', 'unit': 'L', 'rangeMin': '500', 'rangeMax': '(Tere)'}\n",
      "{'name': 'Na', 'result': '140', 'unit': 'L', 'rangeMin': '135', 'rangeMax': '145'}\n",
      "{'name': 'ALT', 'result': '22', 'unit': 'U/L', 'rangeMin': '4', 'rangeMax': 'Kis)'}\n"
     ]
    }
   ],
   "source": [
    "for i in range(10):\n",
    "    print(output[i].__dict__)\n",
    "\n",
    "       "
   ]
  },
  {
   "cell_type": "code",
   "execution_count": 13,
   "id": "a54703a2",
   "metadata": {},
   "outputs": [],
   "source": [
    "for i in range(len(output)):\n",
    "    for j in range(len(data)):\n",
    "        if output[i].__dict__['name'] == data['Abbreviation'][j]:\n",
    "            output[i].__dict__['meaning']= data['Stands for'][j]"
   ]
  },
  {
   "cell_type": "code",
   "execution_count": 14,
   "id": "0507d897",
   "metadata": {},
   "outputs": [
    {
     "name": "stdout",
     "output_type": "stream",
     "text": [
      "ACE Stands for Angiotensin converting enzyme and result is Low\n",
      "MRI Stands for Magnetic resonance imaging (scan) and result is High\n",
      "CA Stands for Cancer OR Calcium and result is Low\n",
      "WBC Stands for White blood cell and result is Low\n",
      "TB Stands for Tuberculosis and result is High\n",
      "RBC Stands for Red blood cell and result is Low\n",
      "GFR Stands for Glomerular filtration rate and result is Low\n"
     ]
    },
    {
     "ename": "KeyError",
     "evalue": "'meaning'",
     "output_type": "error",
     "traceback": [
      "\u001b[1;31m---------------------------------------------------------------------------\u001b[0m",
      "\u001b[1;31mKeyError\u001b[0m                                  Traceback (most recent call last)",
      "\u001b[1;32m~\\AppData\\Local\\Temp/ipykernel_16824/738432941.py\u001b[0m in \u001b[0;36m<module>\u001b[1;34m\u001b[0m\n\u001b[0;32m      3\u001b[0m         \u001b[0mprint\u001b[0m\u001b[1;33m(\u001b[0m\u001b[0moutput\u001b[0m\u001b[1;33m[\u001b[0m\u001b[0mi\u001b[0m\u001b[1;33m]\u001b[0m\u001b[1;33m.\u001b[0m\u001b[0m__dict__\u001b[0m\u001b[1;33m[\u001b[0m\u001b[1;34m'name'\u001b[0m\u001b[1;33m]\u001b[0m\u001b[1;33m+\u001b[0m\u001b[1;34m' Stands for '\u001b[0m\u001b[1;33m+\u001b[0m\u001b[0moutput\u001b[0m\u001b[1;33m[\u001b[0m\u001b[0mi\u001b[0m\u001b[1;33m]\u001b[0m\u001b[1;33m.\u001b[0m\u001b[0m__dict__\u001b[0m\u001b[1;33m[\u001b[0m\u001b[1;34m'meaning'\u001b[0m\u001b[1;33m]\u001b[0m\u001b[1;33m+\u001b[0m\u001b[1;34m' and result is Low'\u001b[0m \u001b[1;33m)\u001b[0m\u001b[1;33m\u001b[0m\u001b[1;33m\u001b[0m\u001b[0m\n\u001b[0;32m      4\u001b[0m     \u001b[1;32melif\u001b[0m \u001b[0moutput\u001b[0m\u001b[1;33m[\u001b[0m\u001b[0mi\u001b[0m\u001b[1;33m]\u001b[0m\u001b[1;33m.\u001b[0m\u001b[0m__dict__\u001b[0m\u001b[1;33m[\u001b[0m\u001b[1;34m'result'\u001b[0m\u001b[1;33m]\u001b[0m \u001b[1;33m>\u001b[0m \u001b[0moutput\u001b[0m\u001b[1;33m[\u001b[0m\u001b[0mi\u001b[0m\u001b[1;33m]\u001b[0m\u001b[1;33m.\u001b[0m\u001b[0m__dict__\u001b[0m\u001b[1;33m[\u001b[0m\u001b[1;34m'rangeMax'\u001b[0m\u001b[1;33m]\u001b[0m\u001b[1;33m:\u001b[0m\u001b[1;33m\u001b[0m\u001b[1;33m\u001b[0m\u001b[0m\n\u001b[1;32m----> 5\u001b[1;33m         \u001b[0mprint\u001b[0m\u001b[1;33m(\u001b[0m\u001b[0moutput\u001b[0m\u001b[1;33m[\u001b[0m\u001b[0mi\u001b[0m\u001b[1;33m]\u001b[0m\u001b[1;33m.\u001b[0m\u001b[0m__dict__\u001b[0m\u001b[1;33m[\u001b[0m\u001b[1;34m'name'\u001b[0m\u001b[1;33m]\u001b[0m\u001b[1;33m+\u001b[0m\u001b[1;34m' Stands for '\u001b[0m\u001b[1;33m+\u001b[0m\u001b[0moutput\u001b[0m\u001b[1;33m[\u001b[0m\u001b[0mi\u001b[0m\u001b[1;33m]\u001b[0m\u001b[1;33m.\u001b[0m\u001b[0m__dict__\u001b[0m\u001b[1;33m[\u001b[0m\u001b[1;34m'meaning'\u001b[0m\u001b[1;33m]\u001b[0m\u001b[1;33m+\u001b[0m\u001b[1;34m' and result is High'\u001b[0m\u001b[1;33m)\u001b[0m\u001b[1;33m\u001b[0m\u001b[1;33m\u001b[0m\u001b[0m\n\u001b[0m\u001b[0;32m      6\u001b[0m     \u001b[1;32melse\u001b[0m\u001b[1;33m:\u001b[0m\u001b[1;33m\u001b[0m\u001b[1;33m\u001b[0m\u001b[0m\n\u001b[0;32m      7\u001b[0m         \u001b[0mprint\u001b[0m\u001b[1;33m(\u001b[0m\u001b[0moutput\u001b[0m\u001b[1;33m[\u001b[0m\u001b[0mi\u001b[0m\u001b[1;33m]\u001b[0m\u001b[1;33m.\u001b[0m\u001b[0m__dict__\u001b[0m\u001b[1;33m[\u001b[0m\u001b[1;34m'name'\u001b[0m\u001b[1;33m]\u001b[0m\u001b[1;33m+\u001b[0m\u001b[1;34m' Stands for '\u001b[0m\u001b[1;33m+\u001b[0m\u001b[0moutput\u001b[0m\u001b[1;33m[\u001b[0m\u001b[0mi\u001b[0m\u001b[1;33m]\u001b[0m\u001b[1;33m.\u001b[0m\u001b[0m__dict__\u001b[0m\u001b[1;33m[\u001b[0m\u001b[1;34m'meaning'\u001b[0m\u001b[1;33m]\u001b[0m\u001b[1;33m+\u001b[0m\u001b[1;34m' and result is Normal'\u001b[0m\u001b[1;33m)\u001b[0m\u001b[1;33m\u001b[0m\u001b[1;33m\u001b[0m\u001b[0m\n",
      "\u001b[1;31mKeyError\u001b[0m: 'meaning'"
     ]
    }
   ],
   "source": [
    "for i in range(len(output)):\n",
    "    if output[i].__dict__['result'] < output[i].__dict__['rangeMin']:\n",
    "        print(output[i].__dict__['name']+' Stands for '+output[i].__dict__['meaning']+' and result is Low' )\n",
    "    elif output[i].__dict__['result'] > output[i].__dict__['rangeMax']:\n",
    "        print(output[i].__dict__['name']+' Stands for '+output[i].__dict__['meaning']+' and result is High')\n",
    "    else:\n",
    "        print(output[i].__dict__['name']+' Stands for '+output[i].__dict__['meaning']+' and result is Normal')"
   ]
  },
  {
   "cell_type": "code",
   "execution_count": 15,
   "id": "0df3b23f",
   "metadata": {},
   "outputs": [
    {
     "name": "stdout",
     "output_type": "stream",
     "text": [
      "Requirement already satisfied: gunicorn in c:\\programdata\\anaconda3\\lib\\site-packages (20.1.0)Note: you may need to restart the kernel to use updated packages.\n",
      "Requirement already satisfied: setuptools>=3.0 in c:\\programdata\\anaconda3\\lib\\site-packages (from gunicorn) (58.0.4)\n",
      "\n"
     ]
    }
   ],
   "source": [
    "pip install gunicorn"
   ]
  },
  {
   "cell_type": "code",
   "execution_count": 17,
   "id": "d4554706",
   "metadata": {},
   "outputs": [
    {
     "name": "stdout",
     "output_type": "stream",
     "text": [
      "Collecting pickle-mixin\n",
      "  Downloading pickle-mixin-1.0.2.tar.gz (5.1 kB)\n",
      "Building wheels for collected packages: pickle-mixin\n",
      "  Building wheel for pickle-mixin (setup.py): started\n",
      "  Building wheel for pickle-mixin (setup.py): finished with status 'done'\n",
      "  Created wheel for pickle-mixin: filename=pickle_mixin-1.0.2-py3-none-any.whl size=6008 sha256=d7a7f4d1ef2ebcba7e69d30799c6e87459936ee10f3521db5e487a60e05066f8\n",
      "  Stored in directory: c:\\users\\magic\\appdata\\local\\pip\\cache\\wheels\\58\\c6\\8b\\061bd4edc8cea2b2235758c3e50473d08499236fbfdd21e6b3\n",
      "Successfully built pickle-mixin\n",
      "Installing collected packages: pickle-mixin\n",
      "Successfully installed pickle-mixin-1.0.2\n",
      "Note: you may need to restart the kernel to use updated packages.\n"
     ]
    }
   ],
   "source": [
    "pip install pickle-mixin\n"
   ]
  },
  {
   "cell_type": "code",
   "execution_count": 4,
   "id": "81b2c6f8",
   "metadata": {},
   "outputs": [
    {
     "name": "stdout",
     "output_type": "stream",
     "text": [
      " * Serving Flask app \"__main__\" (lazy loading)\n",
      " * Environment: production\n",
      "\u001b[31m   WARNING: This is a development server. Do not use it in a production deployment.\u001b[0m\n",
      "\u001b[2m   Use a production WSGI server instead.\u001b[0m\n",
      " * Debug mode: on\n"
     ]
    },
    {
     "name": "stderr",
     "output_type": "stream",
     "text": [
      " * Restarting with watchdog (windowsapi)\n"
     ]
    },
    {
     "ename": "SystemExit",
     "evalue": "1",
     "output_type": "error",
     "traceback": [
      "An exception has occurred, use %tb to see the full traceback.\n",
      "\u001b[1;31mSystemExit\u001b[0m\u001b[1;31m:\u001b[0m 1\n"
     ]
    },
    {
     "name": "stderr",
     "output_type": "stream",
     "text": [
      "C:\\ProgramData\\Anaconda3\\lib\\site-packages\\IPython\\core\\interactiveshell.py:3452: UserWarning: To exit: use 'exit', 'quit', or Ctrl-D.\n",
      "  warn(\"To exit: use 'exit', 'quit', or Ctrl-D.\", stacklevel=1)\n"
     ]
    }
   ],
   "source": [
    "import flask\n",
    "import requests\n",
    "from flask import jsonify\n",
    "\n",
    "app = flask.Flask(__name__)\n",
    "\n",
    "#to display the connection status\n",
    "@app.route('/', methods=['GET'])\n",
    "def handle_call():\n",
    "    return \"Successfully Connected\"\n",
    "\n",
    "#the get method. when we call this, it just return the text \"Hey!! I'm the fact you got!!!\"\n",
    "@app.route('/getfact', methods=['GET'])\n",
    "def get_fact():\n",
    "    return \"Hey!! I'm the fact you got!!!\"\n",
    "\n",
    "#the post method. when we call this with a string containing a name, it will return the name with the text \"I got your name\"\n",
    "@app.route('/getname/<name>', methods=['POST'])\n",
    "def extract_name(name):\n",
    "    return \"I got your name \"+name;\n",
    "\n",
    "#this commands the script to run in the given port\n",
    "if __name__ == '__main__':\n",
    "    app.run(debug=True)\n",
    "   "
   ]
  },
  {
   "cell_type": "code",
   "execution_count": 3,
   "id": "ad23480d",
   "metadata": {},
   "outputs": [
    {
     "ename": "SyntaxError",
     "evalue": "invalid syntax (Temp/ipykernel_732/3083603229.py, line 1)",
     "output_type": "error",
     "traceback": [
      "\u001b[1;36m  File \u001b[1;32m\"C:\\Users\\Magic\\AppData\\Local\\Temp/ipykernel_732/3083603229.py\"\u001b[1;36m, line \u001b[1;32m1\u001b[0m\n\u001b[1;33m    web: gunicorn app:app\u001b[0m\n\u001b[1;37m                  ^\u001b[0m\n\u001b[1;31mSyntaxError\u001b[0m\u001b[1;31m:\u001b[0m invalid syntax\n"
     ]
    }
   ],
   "source": [
    "web: gunicorn app:app"
   ]
  },
  {
   "cell_type": "code",
   "execution_count": null,
   "id": "d78bb454",
   "metadata": {},
   "outputs": [],
   "source": []
  },
  {
   "cell_type": "code",
   "execution_count": null,
   "id": "6e339dd4",
   "metadata": {},
   "outputs": [],
   "source": []
  },
  {
   "cell_type": "code",
   "execution_count": null,
   "id": "96fc924c",
   "metadata": {},
   "outputs": [],
   "source": []
  }
 ],
 "metadata": {
  "kernelspec": {
   "display_name": "Python 3 (ipykernel)",
   "language": "python",
   "name": "python3"
  },
  "language_info": {
   "codemirror_mode": {
    "name": "ipython",
    "version": 3
   },
   "file_extension": ".py",
   "mimetype": "text/x-python",
   "name": "python",
   "nbconvert_exporter": "python",
   "pygments_lexer": "ipython3",
   "version": "3.9.7"
  }
 },
 "nbformat": 4,
 "nbformat_minor": 5
}
